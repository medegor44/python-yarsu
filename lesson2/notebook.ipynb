{
 "cells": [
  {
   "cell_type": "markdown",
   "id": "8542251e",
   "metadata": {},
   "source": [
    "# Основы ООП\n",
    "\n",
    "Три основных принципа ООП:\n",
    "1. Инкапусляция\n",
    "2. Наследование\n",
    "3. Полиморфизм"
   ]
  },
  {
   "cell_type": "markdown",
   "id": "ab1409e0",
   "metadata": {},
   "source": [
    "# Инкапусляция\n",
    "\n",
    "> **Инкапусуляция** - это принцип согласно которому данные и код, работающий с этими данными хранятся как можно ближе друг к другу в одном месте - классе. Каждый класс сам решает какие данные и методы делать доступными извне, а какие - нет.  "
   ]
  },
  {
   "cell_type": "code",
   "execution_count": 11,
   "id": "700fabd5",
   "metadata": {},
   "outputs": [],
   "source": [
    "class Book:\n",
    "    def __init__(self, title: str, author: str, isbn: str):\n",
    "        self.title = title\n",
    "        self.author = author\n",
    "        self.isbn = isbn\n",
    "        self.is_available = True\n",
    "\n",
    "    def display_info(self):\n",
    "        print(f\"Title: {self.title}, Author: {self.author}, ISBN: {self.isbn}, Available: {self.is_available}\")"
   ]
  },
  {
   "cell_type": "markdown",
   "id": "fa186b35",
   "metadata": {},
   "source": [
    "Создадим **экземпляр** класса. Класс это некоторый шаблон, а экземпляр класса это уже конкретный объект. \n",
    "> Аналогия: класс - это чертеж, а объект уже конкретная машина"
   ]
  },
  {
   "cell_type": "code",
   "execution_count": 12,
   "id": "58dd9e77",
   "metadata": {},
   "outputs": [
    {
     "name": "stdout",
     "output_type": "stream",
     "text": [
      "Title: Преступление и наказание, Author: Фёдор Достоевский, ISBN: 978-5-17-118366-7, Available: True\n"
     ]
    }
   ],
   "source": [
    "book = Book('Преступление и наказание', 'Фёдор Достоевский', '978-5-17-118366-7')\n",
    "book.display_info()"
   ]
  },
  {
   "cell_type": "markdown",
   "id": "3059f41b",
   "metadata": {},
   "source": [
    "Что сейчас плохо?"
   ]
  },
  {
   "cell_type": "code",
   "execution_count": 13,
   "id": "77a30acb",
   "metadata": {},
   "outputs": [
    {
     "name": "stdout",
     "output_type": "stream",
     "text": [
      "Title: None, Author: Фёдор Достоевский, ISBN: 978-5-17-118366-7, Available: недоступна\n"
     ]
    }
   ],
   "source": [
    "book.is_available = \"недоступна\"\n",
    "book.title = None\n",
    "\n",
    "book.display_info()"
   ]
  }
 ],
 "metadata": {
  "kernelspec": {
   "display_name": ".venv",
   "language": "python",
   "name": "python3"
  },
  "language_info": {
   "codemirror_mode": {
    "name": "ipython",
    "version": 3
   },
   "file_extension": ".py",
   "mimetype": "text/x-python",
   "name": "python",
   "nbconvert_exporter": "python",
   "pygments_lexer": "ipython3",
   "version": "3.13.5"
  }
 },
 "nbformat": 4,
 "nbformat_minor": 5
}
