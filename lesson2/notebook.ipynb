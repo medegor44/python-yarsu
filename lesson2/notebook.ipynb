{
 "cells": [
  {
   "cell_type": "markdown",
   "id": "8542251e",
   "metadata": {},
   "source": [
    "# Основы ООП\n",
    "\n",
    "Три основных принципа ООП:\n",
    "1. Инкапусляция\n",
    "2. Наследование\n",
    "3. Полиморфизм"
   ]
  },
  {
   "cell_type": "markdown",
   "id": "ab1409e0",
   "metadata": {},
   "source": [
    "# Инкапусляция\n",
    "\n",
    "> **Инкапусуляция** - это принцип согласно которому данные и код, работающий с этими данными хранятся как можно ближе друг к другу в одном месте - классе. Каждый класс сам решает какие данные и методы делать доступными извне, а какие - нет.  "
   ]
  },
  {
   "cell_type": "code",
   "execution_count": 11,
   "id": "700fabd5",
   "metadata": {},
   "outputs": [],
   "source": [
    "class Book:\n",
    "    def __init__(self, title: str, author: str, isbn: str):\n",
    "        self.title = title\n",
    "        self.author = author\n",
    "        self.isbn = isbn\n",
    "        self.is_available = True\n",
    "\n",
    "    def display_info(self):\n",
    "        print(f\"Title: {self.title}, Author: {self.author}, ISBN: {self.isbn}, Available: {self.is_available}\")"
   ]
  },
  {
   "cell_type": "markdown",
   "id": "fa186b35",
   "metadata": {},
   "source": [
    "Создадим **экземпляр** класса. Класс это некоторый шаблон, а экземпляр класса это уже конкретный объект. \n",
    "> Аналогия: класс - это чертеж, а объект уже конкретная машина"
   ]
  },
  {
   "cell_type": "code",
   "execution_count": 12,
   "id": "58dd9e77",
   "metadata": {},
   "outputs": [
    {
     "name": "stdout",
     "output_type": "stream",
     "text": [
      "Title: Преступление и наказание, Author: Фёдор Достоевский, ISBN: 978-5-17-118366-7, Available: True\n"
     ]
    }
   ],
   "source": [
    "book = Book('Преступление и наказание', 'Фёдор Достоевский', '978-5-17-118366-7')\n",
    "book.display_info()"
   ]
  },
  {
   "cell_type": "markdown",
   "id": "3059f41b",
   "metadata": {},
   "source": [
    "Что сейчас плохо?"
   ]
  },
  {
   "cell_type": "code",
   "execution_count": 13,
   "id": "77a30acb",
   "metadata": {},
   "outputs": [
    {
     "name": "stdout",
     "output_type": "stream",
     "text": [
      "Title: None, Author: Фёдор Достоевский, ISBN: 978-5-17-118366-7, Available: недоступна\n"
     ]
    }
   ],
   "source": [
    "book.is_available = \"недоступна\"\n",
    "book.title = None\n",
    "\n",
    "book.display_info()"
   ]
  },
  {
   "cell_type": "markdown",
   "id": "0023f2f7",
   "metadata": {},
   "source": [
    "Перепишем поля на свойства"
   ]
  },
  {
   "cell_type": "code",
   "execution_count": 14,
   "id": "39928de5",
   "metadata": {},
   "outputs": [],
   "source": [
    "class Book:\n",
    "    def __init__(self, title: str, author: str, isbn: str):\n",
    "        self.__title = title\n",
    "        self.__author = author\n",
    "        self.__isbn = isbn\n",
    "        self.__is_available = True\n",
    "\n",
    "    @property\n",
    "    def title(self):\n",
    "        return self.__title\n",
    "\n",
    "    @property\n",
    "    def author(self):\n",
    "        return self.__author\n",
    "\n",
    "    @property\n",
    "    def isbn(self):\n",
    "        return self.__isbn\n",
    "\n",
    "    @property\n",
    "    def is_available(self):\n",
    "        return self.__is_available\n",
    "\n",
    "    def display_info(self):\n",
    "        print(f\"Title: {self.__title}, Author: {self.__author}, ISBN: {self.__isbn}, Available: {self.__is_available}\")"
   ]
  },
  {
   "cell_type": "code",
   "execution_count": 16,
   "id": "31dcc307",
   "metadata": {},
   "outputs": [
    {
     "name": "stdout",
     "output_type": "stream",
     "text": [
      "Title: Преступление и наказание, Author: Фёдор Достоевский, ISBN: 978-5-17-118366-7, Available: True\n"
     ]
    },
    {
     "ename": "AttributeError",
     "evalue": "property 'is_available' of 'Book' object has no setter",
     "output_type": "error",
     "traceback": [
      "\u001b[31m---------------------------------------------------------------------------\u001b[39m",
      "\u001b[31mAttributeError\u001b[39m                            Traceback (most recent call last)",
      "\u001b[36mCell\u001b[39m\u001b[36m \u001b[39m\u001b[32mIn[16]\u001b[39m\u001b[32m, line 4\u001b[39m\n\u001b[32m      1\u001b[39m book = Book(\u001b[33m'\u001b[39m\u001b[33mПреступление и наказание\u001b[39m\u001b[33m'\u001b[39m, \u001b[33m'\u001b[39m\u001b[33mФёдор Достоевский\u001b[39m\u001b[33m'\u001b[39m, \u001b[33m'\u001b[39m\u001b[33m978-5-17-118366-7\u001b[39m\u001b[33m'\u001b[39m)\n\u001b[32m      2\u001b[39m book.display_info()\n\u001b[32m----> \u001b[39m\u001b[32m4\u001b[39m \u001b[43mbook\u001b[49m\u001b[43m.\u001b[49m\u001b[43mis_available\u001b[49m = \u001b[33m\"\u001b[39m\u001b[33mнедоступна\u001b[39m\u001b[33m\"\u001b[39m\n\u001b[32m      5\u001b[39m book.title = \u001b[38;5;28;01mNone\u001b[39;00m\n\u001b[32m      7\u001b[39m book.display_info()\n",
      "\u001b[31mAttributeError\u001b[39m: property 'is_available' of 'Book' object has no setter"
     ]
    }
   ],
   "source": [
    "book = Book('Преступление и наказание', 'Фёдор Достоевский', '978-5-17-118366-7')\n",
    "book.display_info()\n",
    "\n",
    "book.is_available = \"недоступна\"\n",
    "book.title = None\n",
    "\n",
    "book.display_info()"
   ]
  }
 ],
 "metadata": {
  "kernelspec": {
   "display_name": ".venv",
   "language": "python",
   "name": "python3"
  },
  "language_info": {
   "codemirror_mode": {
    "name": "ipython",
    "version": 3
   },
   "file_extension": ".py",
   "mimetype": "text/x-python",
   "name": "python",
   "nbconvert_exporter": "python",
   "pygments_lexer": "ipython3",
   "version": "3.13.5"
  }
 },
 "nbformat": 4,
 "nbformat_minor": 5
}
