{
 "cells": [
  {
   "cell_type": "markdown",
   "id": "c77752d6",
   "metadata": {},
   "source": [
    "# Декораторы\n",
    "\n",
    "Декораторы очень важная часть языка Python и перед тем как перейти к ООП следует поговорить о них.\n",
    "\n",
    "Допустим у нас есть функция `add` и мы хотим научиться печатать список аргументов, переданных функции"
   ]
  },
  {
   "cell_type": "code",
   "execution_count": null,
   "id": "10a9de5f",
   "metadata": {},
   "outputs": [],
   "source": [
    "def add(a: int, b: int) -> int:\n",
    "    return a + b"
   ]
  },
  {
   "cell_type": "markdown",
   "id": "20d8274c",
   "metadata": {},
   "source": [
    "Можно написать вот такой код, но он не будет универсальным - мы должны будем менять каждую функцию чтобы увидеть ее аргументы"
   ]
  },
  {
   "cell_type": "code",
   "execution_count": null,
   "id": "e5bc5fa1",
   "metadata": {},
   "outputs": [],
   "source": [
    "def add(a: int, b: int) -> int:\n",
    "    print(f'a = {a} b = {b}')\n",
    "    return a + b"
   ]
  },
  {
   "cell_type": "markdown",
   "id": "6f280855",
   "metadata": {},
   "source": [
    "В таком случае на помощь нам приходят декораторы. Это функции, которые принимают уже имеющиеся и дополняют их поведение до и после вызова"
   ]
  },
  {
   "cell_type": "code",
   "execution_count": 9,
   "id": "8b437e94",
   "metadata": {},
   "outputs": [
    {
     "name": "stdout",
     "output_type": "stream",
     "text": [
      "Arguments: 1, 2\n",
      "Result: 3\n"
     ]
    },
    {
     "data": {
      "text/plain": [
       "3"
      ]
     },
     "execution_count": 9,
     "metadata": {},
     "output_type": "execute_result"
    }
   ],
   "source": [
    "def print_args_decorator(func):\n",
    "    def wrapper(a: int, b: int):\n",
    "        print(f'Arguments: {a}, {b}')\n",
    "        return func(a, b)\n",
    "    return wrapper\n",
    "\n",
    "def print_result_decorator(func):\n",
    "    def wrapper(a: int, b: int):\n",
    "        result = func(a, b)\n",
    "        print(f'Result: {result}')\n",
    "        return result\n",
    "    return wrapper\n",
    "\n",
    "\n",
    "@print_args_decorator\n",
    "@print_result_decorator\n",
    "def add(a: int, b: int) -> int:\n",
    "    return a + b\n",
    "\n",
    "add(1, 2)"
   ]
  },
  {
   "cell_type": "markdown",
   "id": "8542251e",
   "metadata": {},
   "source": [
    "# Основы ООП\n",
    "\n",
    "Три основных принципа ООП:\n",
    "1. Инкапусляция\n",
    "2. Наследование\n",
    "3. Полиморфизм"
   ]
  },
  {
   "cell_type": "markdown",
   "id": "ab1409e0",
   "metadata": {},
   "source": [
    "# Инкапусляция\n",
    "\n",
    "> **Инкапусуляция** - это принцип согласно которому данные и код, работающий с этими данными хранятся как можно ближе друг к другу в одном месте - классе. Каждый класс сам решает какие данные и методы делать доступными извне, а какие - нет.  "
   ]
  },
  {
   "cell_type": "code",
   "execution_count": 11,
   "id": "700fabd5",
   "metadata": {},
   "outputs": [],
   "source": [
    "class Book:\n",
    "    def __init__(self, title: str, author: str, isbn: str):\n",
    "        self.title = title\n",
    "        self.author = author\n",
    "        self.isbn = isbn\n",
    "        self.is_available = True\n",
    "\n",
    "    def display_info(self):\n",
    "        print(f\"Title: {self.title}, Author: {self.author}, ISBN: {self.isbn}, Available: {self.is_available}\")"
   ]
  },
  {
   "cell_type": "markdown",
   "id": "fa186b35",
   "metadata": {},
   "source": [
    "Создадим **экземпляр** класса. Класс это некоторый шаблон, а экземпляр класса это уже конкретный объект. \n",
    "> Аналогия: класс - это чертеж, а объект уже конкретная машина"
   ]
  },
  {
   "cell_type": "code",
   "execution_count": 12,
   "id": "58dd9e77",
   "metadata": {},
   "outputs": [
    {
     "name": "stdout",
     "output_type": "stream",
     "text": [
      "Title: Преступление и наказание, Author: Фёдор Достоевский, ISBN: 978-5-17-118366-7, Available: True\n"
     ]
    }
   ],
   "source": [
    "book = Book('Преступление и наказание', 'Фёдор Достоевский', '978-5-17-118366-7')\n",
    "book.display_info()"
   ]
  },
  {
   "cell_type": "markdown",
   "id": "3059f41b",
   "metadata": {},
   "source": [
    "Что сейчас плохо?"
   ]
  },
  {
   "cell_type": "code",
   "execution_count": 13,
   "id": "77a30acb",
   "metadata": {},
   "outputs": [
    {
     "name": "stdout",
     "output_type": "stream",
     "text": [
      "Title: None, Author: Фёдор Достоевский, ISBN: 978-5-17-118366-7, Available: недоступна\n"
     ]
    }
   ],
   "source": [
    "book.is_available = \"недоступна\"\n",
    "book.title = None\n",
    "\n",
    "book.display_info()"
   ]
  },
  {
   "cell_type": "markdown",
   "id": "0023f2f7",
   "metadata": {},
   "source": [
    "Перепишем поля на свойства"
   ]
  },
  {
   "cell_type": "code",
   "execution_count": 1,
   "id": "39928de5",
   "metadata": {},
   "outputs": [],
   "source": [
    "class Book:\n",
    "    def __init__(self, title: str, author: str, isbn: str):\n",
    "        self.__title = title\n",
    "        self.__author = author\n",
    "        self.__isbn = isbn\n",
    "        self.__is_available = True\n",
    "\n",
    "    @property\n",
    "    def title(self):\n",
    "        return self.__title\n",
    "\n",
    "    @property\n",
    "    def author(self):\n",
    "        return self.__author\n",
    "\n",
    "    @property\n",
    "    def isbn(self):\n",
    "        return self.__isbn\n",
    "\n",
    "    @property\n",
    "    def is_available(self):\n",
    "        return self.__is_available\n",
    "\n",
    "    def display_info(self):\n",
    "        print(f\"Title: {self.__title}, Author: {self.__author}, ISBN: {self.__isbn}, Available: {self.__is_available}\")"
   ]
  },
  {
   "cell_type": "code",
   "execution_count": 6,
   "id": "31dcc307",
   "metadata": {},
   "outputs": [
    {
     "name": "stdout",
     "output_type": "stream",
     "text": [
      "Title: Преступление и наказание, Author: Фёдор Достоевский, ISBN: 978-5-17-118366-7, Available: True\n"
     ]
    },
    {
     "ename": "AttributeError",
     "evalue": "property 'is_available' of 'Book' object has no setter",
     "output_type": "error",
     "traceback": [
      "\u001b[31m---------------------------------------------------------------------------\u001b[39m",
      "\u001b[31mAttributeError\u001b[39m                            Traceback (most recent call last)",
      "\u001b[36mCell\u001b[39m\u001b[36m \u001b[39m\u001b[32mIn[6]\u001b[39m\u001b[32m, line 4\u001b[39m\n\u001b[32m      1\u001b[39m book = Book(\u001b[33m'\u001b[39m\u001b[33mПреступление и наказание\u001b[39m\u001b[33m'\u001b[39m, \u001b[33m'\u001b[39m\u001b[33mФёдор Достоевский\u001b[39m\u001b[33m'\u001b[39m, \u001b[33m'\u001b[39m\u001b[33m978-5-17-118366-7\u001b[39m\u001b[33m'\u001b[39m)\n\u001b[32m      2\u001b[39m book.display_info()\n\u001b[32m----> \u001b[39m\u001b[32m4\u001b[39m \u001b[43mbook\u001b[49m\u001b[43m.\u001b[49m\u001b[43mis_available\u001b[49m = \u001b[33m\"\u001b[39m\u001b[33mнедоступна\u001b[39m\u001b[33m\"\u001b[39m\n\u001b[32m      6\u001b[39m book.display_info()\n",
      "\u001b[31mAttributeError\u001b[39m: property 'is_available' of 'Book' object has no setter"
     ]
    }
   ],
   "source": [
    "book = Book('Преступление и наказание', 'Фёдор Достоевский', '978-5-17-118366-7')\n",
    "book.display_info()\n",
    "\n",
    "book.is_available = \"недоступна\"\n",
    "\n",
    "book.display_info()"
   ]
  },
  {
   "cell_type": "markdown",
   "id": "194d688f",
   "metadata": {},
   "source": [
    "Поля теперь доступны только на чтение. Имеет смысл разрешить что-то из них менять. Напишем для этого сеттер"
   ]
  },
  {
   "cell_type": "code",
   "execution_count": 20,
   "id": "63e13b86",
   "metadata": {},
   "outputs": [],
   "source": [
    "class Book:\n",
    "    def __init__(self, title: str, author: str, isbn: str):\n",
    "        self.__title = title\n",
    "        self.__author = author\n",
    "        self.__isbn = isbn\n",
    "        self.__is_available = True\n",
    "\n",
    "    @property\n",
    "    def title(self):\n",
    "        return self.__title\n",
    "\n",
    "    @property\n",
    "    def author(self):\n",
    "        return self.__author\n",
    "\n",
    "    @property\n",
    "    def isbn(self):\n",
    "        return self.__isbn\n",
    "\n",
    "    @property\n",
    "    def is_available(self):\n",
    "        return self.__is_available\n",
    "\n",
    "    @is_available.setter\n",
    "    def is_available(self, new_available: bool):\n",
    "        self.__is_available = new_available\n",
    "\n",
    "    def display_info(self):\n",
    "        print(f\"Title: {self.__title}, Author: {self.__author}, ISBN: {self.__isbn}, Available: {self.__is_available}\")"
   ]
  },
  {
   "cell_type": "code",
   "execution_count": null,
   "id": "9bab3021",
   "metadata": {},
   "outputs": [
    {
     "name": "stdout",
     "output_type": "stream",
     "text": [
      "Title: Преступление и наказание, Author: Фёдор Достоевский, ISBN: 978-5-17-118366-7, Available: True\n",
      "Title: Преступление и наказание, Author: Фёдор Достоевский, ISBN: 978-5-17-118366-7, Available: False\n"
     ]
    }
   ],
   "source": [
    "book = Book('Преступление и наказание', 'Фёдор Достоевский', '978-5-17-118366-7', 500)\n",
    "book.display_info()\n",
    "\n",
    "book.is_available = False\n",
    "\n",
    "book.display_info()"
   ]
  },
  {
   "cell_type": "markdown",
   "id": "cee98722",
   "metadata": {},
   "source": [
    "# Наследование"
   ]
  },
  {
   "cell_type": "markdown",
   "id": "011748b2",
   "metadata": {},
   "source": [
    "> Механизм наследования состоит в том, что мы можем описывать классы на основе уже существующих"
   ]
  },
  {
   "cell_type": "code",
   "execution_count": null,
   "id": "da4cefd6",
   "metadata": {},
   "outputs": [],
   "source": [
    "class EBook(Book):\n",
    "    def __init__(self, title: str, author: str, isbn: str, file_size_bytes: int, pages_count: int):\n",
    "        # Initialize the parent class\n",
    "        super().__init__(title, author, isbn)\n",
    "        self.__file_size_bytes = file_size_bytes\n",
    "        self.__AVG_PAGE_READING_TIME_MIN = 10\n",
    "        self.__pages_count = pages_count\n",
    "\n",
    "    @property\n",
    "    def pages_count(self):\n",
    "        return self.__pages_count\n",
    "\n",
    "    def display_info(self):\n",
    "        super().display_info()\n",
    "        print(f\"File size (bytes): {self.__file_size_bytes}\")\n",
    "        print(f\"Pages count: {self.__pages_count}\")\n",
    "\n",
    "    def time_to_beat(self):\n",
    "        return self.__pages_count * self.__AVG_PAGE_READING_TIME_MIN\n",
    "\n",
    "    @property\n",
    "    def file_size_bytes(self):\n",
    "        return self.__file_size_bytes"
   ]
  },
  {
   "cell_type": "markdown",
   "id": "a2338172",
   "metadata": {},
   "source": [
    "Создали класс электронной книги и проинициализировали базовый класс"
   ]
  },
  {
   "cell_type": "code",
   "execution_count": 24,
   "id": "ea45993d",
   "metadata": {},
   "outputs": [
    {
     "name": "stdout",
     "output_type": "stream",
     "text": [
      "Title: Преступление и наказание, Author: Фёдор Достоевский, ISBN: 978-5-17-118366-7, Available: True\n",
      "File size (bytes): 204800\n",
      "Pages count: 500\n"
     ]
    }
   ],
   "source": [
    "ebook = EBook('Преступление и наказание', 'Фёдор Достоевский', '978-5-17-118366-7', 204800, 500)\n",
    "ebook.display_info()"
   ]
  },
  {
   "cell_type": "markdown",
   "id": "0a3b1ad0",
   "metadata": {},
   "source": [
    "# Полиморфизм"
   ]
  },
  {
   "cell_type": "markdown",
   "id": "df08a5df",
   "metadata": {},
   "source": [
    "> Принцип полиморфизма состоит в том, что мы можем работать с разными объектами используя едины интерфейс\n",
    "\n",
    "В Python нет как таковых интерфейсов, но есть \"утиная типизация\", которая и позволяет пользоваться полиморфизмом"
   ]
  },
  {
   "cell_type": "code",
   "execution_count": 25,
   "id": "f17c3867",
   "metadata": {},
   "outputs": [],
   "source": [
    "class AudioBook(Book):\n",
    "    def __init__(self, title: str, author: str, isbn: str, length_seconds: int):\n",
    "        # Initialize the parent class\n",
    "        super().__init__(title, author, isbn)\n",
    "        self.__length_seconds = length_seconds\n",
    "\n",
    "    def display_info(self):\n",
    "        super().display_info()\n",
    "        print(f\"Length (seconds): {self.__length_seconds}\")\n",
    "\n",
    "    def time_to_beat(self):\n",
    "        return self.__length_seconds / 60\n",
    "\n",
    "    @property\n",
    "    def length_seconds(self):\n",
    "        return self.__length_seconds"
   ]
  },
  {
   "cell_type": "code",
   "execution_count": 27,
   "id": "23b729f4",
   "metadata": {},
   "outputs": [
    {
     "name": "stdout",
     "output_type": "stream",
     "text": [
      "Time to beat 'Преступление и наказание': 5000 minutes\n",
      "Time to beat 'Война и мир': 60.0 minutes\n"
     ]
    }
   ],
   "source": [
    "def show_time_to_beat(book): # Мы не знаем что это за книга, но зато знаем, что у нее есть метод time_to_beat\n",
    "    print(f\"Time to beat '{book.title}': {book.time_to_beat()} minutes\")\n",
    "\n",
    "ebook = EBook('Преступление и наказание', 'Фёдор Достоевский', '978-5-17-118366-7', 204800, 500)\n",
    "show_time_to_beat(ebook)\n",
    "audiobook = AudioBook('Война и мир', 'Лев Толстой', '978-5-17-118366-7', 3600)\n",
    "show_time_to_beat(audiobook)"
   ]
  },
  {
   "cell_type": "markdown",
   "id": "8c42214b",
   "metadata": {},
   "source": [
    "# Принципы SOLID\n",
    "\n",
    "Помимо привычных нам трех принципов в современной разработке ПО еще есть принципы SOLID\n",
    "\n",
    "- S – Принцип единственной ответственности (Single Responsibility Principle),\n",
    "- O – Принцип открытости/закрытости (Open‐Closed Principle),\n",
    "- L – Принцип подстановки Барбары Лисков (Liskov Substitution Principle),\n",
    "- I – Принцип разделения интерфейсов (Interface Segregation Principle),\n",
    "- D – Принцип инверсии зависимостей (Dependency Inversion Principle)."
   ]
  },
  {
   "cell_type": "markdown",
   "id": "d3948719",
   "metadata": {},
   "source": [
    "## Принцип единой ответственности\n",
    "\n",
    "> У каждого класса должна быть только одна ответственность и он не должен брать на себя другие обязанности. У класса должна быть ровно одна причина для изменения\n",
    "\n",
    "Напишем класс `LibraryManager`, который будет уметь делать все что угодно"
   ]
  },
  {
   "cell_type": "code",
   "execution_count": null,
   "id": "f1968434",
   "metadata": {},
   "outputs": [],
   "source": [
    "class LibraryManager:\n",
    "    def __init__(self):\n",
    "        self.__books = []\n",
    "\n",
    "    def add_book(self, book):\n",
    "        self.__books.append(book)\n",
    "\n",
    "    def find_book_by_title(self, title):\n",
    "        return [book for book in self.__books if book.title == title]\n",
    "\n",
    "    def save_to_file(self, filename):\n",
    "        # Нарушение SRP: класс отвечает и за управление книгами, и за сохранение данных\n",
    "        with open(filename, 'w', encoding='utf-8') as f:\n",
    "            for book in self.__books:\n",
    "                f.write(f\"{book.title},{book.author},{book.isbn}\\n\")"
   ]
  },
  {
   "cell_type": "markdown",
   "id": "245a4b1a",
   "metadata": {},
   "source": [
    "Код получился запутанным. Добавим еще что-то и разобраться в том что делает класс будет почти невозможно. "
   ]
  },
  {
   "cell_type": "code",
   "execution_count": 28,
   "id": "bbd797a2",
   "metadata": {},
   "outputs": [],
   "source": [
    "class LibraryManager:\n",
    "    def __init__(self):\n",
    "        self.__books = []\n",
    "\n",
    "    def add_book(self, book):\n",
    "        self.__books.append(book)\n",
    "\n",
    "    def find_book_by_title(self, title):\n",
    "        return [book for book in self.__books if book.title == title]\n",
    "\n",
    "    @property\n",
    "    def books(self):\n",
    "        return self.__books\n",
    "\n",
    "class BookFileSaver:\n",
    "    @staticmethod\n",
    "    def save_to_file(books, filename):\n",
    "        with open(filename, 'w', encoding='utf-8') as f:\n",
    "            for book in books:\n",
    "                f.write(f\"{book.title},{book.author},{book.isbn}\\n\")"
   ]
  },
  {
   "cell_type": "markdown",
   "id": "24bb9fec",
   "metadata": {},
   "source": [
    "Разделили класс менеджера на два, один из которых отвечает за поиск книг в своей внутренней коллекции и второй - отвечает за сохранение книг в файл"
   ]
  },
  {
   "cell_type": "markdown",
   "id": "05025827",
   "metadata": {},
   "source": [
    "## Принцип открытости-закрытости\n",
    "\n",
    "> Классы должны быть закрыты для изменений, но открыты для расширений. Мы должны уметь добавить новую фичу без необходимости менять сам класс"
   ]
  },
  {
   "cell_type": "code",
   "execution_count": 30,
   "id": "f5474537",
   "metadata": {},
   "outputs": [
    {
     "name": "stdout",
     "output_type": "stream",
     "text": [
      "EBook: Преступление и наказание, Фёдор Достоевский, 204800 bytes\n",
      "AudioBook: Война и мир, Лев Толстой, 3600 seconds\n"
     ]
    }
   ],
   "source": [
    "class LibraryManager:\n",
    "    def __init__(self):\n",
    "        self.books = []\n",
    "\n",
    "    def add_book(self, book):\n",
    "        self.books.append(book)\n",
    "\n",
    "    # Нарушение принципа открытости-закрытости:\n",
    "    # Каждый раз, когда появляется новый тип книги, приходится менять этот метод\n",
    "    def get_book_info(self, book):\n",
    "        if isinstance(book, EBook):\n",
    "            return f\"EBook: {book.title}, {book.author}, {book.file_size_bytes} bytes\"\n",
    "        elif isinstance(book, AudioBook):\n",
    "            return f\"AudioBook: {book.title}, {book.author}, {book.length_seconds} seconds\"\n",
    "        else:\n",
    "            return f\"Book: {book.title}, {book.author}\"\n",
    "\n",
    "# Пример использования\n",
    "manager = LibraryManager()\n",
    "manager.add_book(ebook)\n",
    "manager.add_book(audiobook)\n",
    "\n",
    "for b in manager.books:\n",
    "    print(manager.get_book_info(b))"
   ]
  },
  {
   "cell_type": "markdown",
   "id": "cfd6bf82",
   "metadata": {},
   "source": [
    "Каждый раз, когда появляется новый тип книги мы дописываем новый код в `get_book_info`. Правильне было бы запрашивать эту информацию у самой книги"
   ]
  },
  {
   "cell_type": "markdown",
   "id": "84b6b5f4",
   "metadata": {},
   "source": [
    "## Принцип подстановки Лисков\n",
    "\n",
    "> Если класс B является наследником класса A, то любой корректный код, использующий класс A должен оставаться корректным при замене A на B"
   ]
  },
  {
   "cell_type": "code",
   "execution_count": 33,
   "id": "86cc14dd",
   "metadata": {},
   "outputs": [
    {
     "name": "stdout",
     "output_type": "stream",
     "text": [
      "Количество страниц: 0\n"
     ]
    },
    {
     "ename": "NotImplementedError",
     "evalue": "Этот метод недоступен для BrokenAudioBook",
     "output_type": "error",
     "traceback": [
      "\u001b[31m---------------------------------------------------------------------------\u001b[39m",
      "\u001b[31mNotImplementedError\u001b[39m                       Traceback (most recent call last)",
      "\u001b[36mCell\u001b[39m\u001b[36m \u001b[39m\u001b[32mIn[33]\u001b[39m\u001b[32m, line 16\u001b[39m\n\u001b[32m     13\u001b[39m     \u001b[38;5;28mprint\u001b[39m(\u001b[33mf\u001b[39m\u001b[33m\"\u001b[39m\u001b[33mКоличество страниц: \u001b[39m\u001b[38;5;132;01m{\u001b[39;00mebook.pages_count\u001b[38;5;132;01m}\u001b[39;00m\u001b[33m\"\u001b[39m)\n\u001b[32m     15\u001b[39m show_pages_count(broken_audiobook)\n\u001b[32m---> \u001b[39m\u001b[32m16\u001b[39m \u001b[43mshow_time_to_beat\u001b[49m\u001b[43m(\u001b[49m\u001b[43mbroken_audiobook\u001b[49m\u001b[43m)\u001b[49m\n",
      "\u001b[36mCell\u001b[39m\u001b[36m \u001b[39m\u001b[32mIn[27]\u001b[39m\u001b[32m, line 2\u001b[39m, in \u001b[36mshow_time_to_beat\u001b[39m\u001b[34m(book)\u001b[39m\n\u001b[32m      1\u001b[39m \u001b[38;5;28;01mdef\u001b[39;00m\u001b[38;5;250m \u001b[39m\u001b[34mshow_time_to_beat\u001b[39m(book): \u001b[38;5;66;03m# Мы не знаем что это за книга, но зато знаем, что у нее есть метод time_to_beat\u001b[39;00m\n\u001b[32m----> \u001b[39m\u001b[32m2\u001b[39m     \u001b[38;5;28mprint\u001b[39m(\u001b[33mf\u001b[39m\u001b[33m\"\u001b[39m\u001b[33mTime to beat \u001b[39m\u001b[33m'\u001b[39m\u001b[38;5;132;01m{\u001b[39;00mbook.title\u001b[38;5;132;01m}\u001b[39;00m\u001b[33m'\u001b[39m\u001b[33m: \u001b[39m\u001b[38;5;132;01m{\u001b[39;00m\u001b[43mbook\u001b[49m\u001b[43m.\u001b[49m\u001b[43mtime_to_beat\u001b[49m\u001b[43m(\u001b[49m\u001b[43m)\u001b[49m\u001b[38;5;132;01m}\u001b[39;00m\u001b[33m minutes\u001b[39m\u001b[33m\"\u001b[39m)\n",
      "\u001b[36mCell\u001b[39m\u001b[36m \u001b[39m\u001b[32mIn[33]\u001b[39m\u001b[32m, line 8\u001b[39m, in \u001b[36mBrokenAudioBook.time_to_beat\u001b[39m\u001b[34m(self)\u001b[39m\n\u001b[32m      7\u001b[39m \u001b[38;5;28;01mdef\u001b[39;00m\u001b[38;5;250m \u001b[39m\u001b[34mtime_to_beat\u001b[39m(\u001b[38;5;28mself\u001b[39m):\n\u001b[32m----> \u001b[39m\u001b[32m8\u001b[39m     \u001b[38;5;28;01mraise\u001b[39;00m \u001b[38;5;167;01mNotImplementedError\u001b[39;00m(\u001b[33m\"\u001b[39m\u001b[33mЭтот метод недоступен для BrokenAudioBook\u001b[39m\u001b[33m\"\u001b[39m)\n",
      "\u001b[31mNotImplementedError\u001b[39m: Этот метод недоступен для BrokenAudioBook"
     ]
    }
   ],
   "source": [
    "class BrokenAudioBook(EBook):\n",
    "    def __init__(self, title: str, author: str, isbn: str, file_size_bytes: int, length_seconds: int):\n",
    "        super().__init__(title, author, isbn, file_size_bytes, pages_count=0)\n",
    "        self.__length_seconds = length_seconds\n",
    "\n",
    "    # Нарушение LSP: вместо возвращения времени, выбрасываем исключение\n",
    "    def time_to_beat(self):\n",
    "        raise NotImplementedError(\"Этот метод недоступен для BrokenAudioBook\")\n",
    "\n",
    "broken_audiobook = BrokenAudioBook('Мастер и Маргарита', 'Михаил Булгаков', '978-5-17-118366-7', 1000, 3600)\n",
    "\n",
    "def show_pages_count(ebook: EBook):\n",
    "    print(f\"Количество страниц: {ebook.pages_count}\")\n",
    "\n",
    "show_pages_count(broken_audiobook)\n",
    "show_time_to_beat(broken_audiobook)\n"
   ]
  },
  {
   "cell_type": "markdown",
   "id": "57f005f9",
   "metadata": {},
   "source": [
    "# Принцип разделения интерфейсов\n",
    "\n",
    "> Ни один класс не должен зависеть от методов, которые не использует\n",
    "\n",
    "Чтобы пойти дальше нам нужно разобраться с тем что такое абстрактный класс. Абстрактный класс это класс, содержащий методы без реализации"
   ]
  },
  {
   "cell_type": "code",
   "execution_count": null,
   "id": "e642c75f",
   "metadata": {},
   "outputs": [],
   "source": [
    "from abc import ABC, abstractmethod\n",
    "\n",
    "class AbstractBook(ABC):\n",
    "    def __init__(self, title: str, author: str, isbn: str):\n",
    "        self.__title = title\n",
    "        self.__author = author\n",
    "        self.__isbn = isbn\n",
    "        self.__is_available = True\n",
    "\n",
    "    @property\n",
    "    def title(self):\n",
    "        return self.__title\n",
    "\n",
    "    @property\n",
    "    def author(self):\n",
    "        return self.__author\n",
    "\n",
    "    @property\n",
    "    def isbn(self):\n",
    "        return self.__isbn\n",
    "\n",
    "    @property\n",
    "    def is_available(self):\n",
    "        return self.__is_available\n",
    "\n",
    "    @abstractmethod\n",
    "    def display_info(self):\n",
    "        pass\n",
    "\n",
    "    @abstractmethod\n",
    "    def time_to_beat(self) -> int:\n",
    "        pass\n",
    "\n",
    "    @abstractmethod\n",
    "    def send_to_printer(self):\n",
    "        pass"
   ]
  },
  {
   "cell_type": "markdown",
   "id": "aebfc53a",
   "metadata": {},
   "source": [
    "Создать экземпляр абстрактного класса нельзя"
   ]
  },
  {
   "cell_type": "code",
   "execution_count": 37,
   "id": "0a5197a6",
   "metadata": {},
   "outputs": [
    {
     "ename": "TypeError",
     "evalue": "Can't instantiate abstract class AbstractBook without an implementation for abstract methods 'display_info', 'time_to_beat'",
     "output_type": "error",
     "traceback": [
      "\u001b[31m---------------------------------------------------------------------------\u001b[39m",
      "\u001b[31mTypeError\u001b[39m                                 Traceback (most recent call last)",
      "\u001b[36mCell\u001b[39m\u001b[36m \u001b[39m\u001b[32mIn[37]\u001b[39m\u001b[32m, line 1\u001b[39m\n\u001b[32m----> \u001b[39m\u001b[32m1\u001b[39m abstractBook = \u001b[43mAbstractBook\u001b[49m\u001b[43m(\u001b[49m\u001b[33;43m\"\u001b[39;49m\u001b[33;43mSample Title\u001b[39;49m\u001b[33;43m\"\u001b[39;49m\u001b[43m,\u001b[49m\u001b[43m \u001b[49m\u001b[33;43m\"\u001b[39;49m\u001b[33;43mSample Author\u001b[39;49m\u001b[33;43m\"\u001b[39;49m\u001b[43m,\u001b[49m\u001b[43m \u001b[49m\u001b[33;43m\"\u001b[39;49m\u001b[33;43m1234567890\u001b[39;49m\u001b[33;43m\"\u001b[39;49m\u001b[43m)\u001b[49m\n",
      "\u001b[31mTypeError\u001b[39m: Can't instantiate abstract class AbstractBook without an implementation for abstract methods 'display_info', 'time_to_beat'"
     ]
    }
   ],
   "source": [
    "abstractBook = AbstractBook(\"Sample Title\", \"Sample Author\", \"1234567890\")"
   ]
  },
  {
   "cell_type": "markdown",
   "id": "37fa06bf",
   "metadata": {},
   "source": [
    "Абстрактный класс должны реализовывать наследники. Создадим класс электронной книги. Ее мы можем напечатать"
   ]
  },
  {
   "cell_type": "code",
   "execution_count": null,
   "id": "c77102f9",
   "metadata": {},
   "outputs": [],
   "source": [
    "class EBook(AbstractBook):\n",
    "    def __init__(self, title: str, author: str, isbn: str, file_size_bytes: int, pages_count: int):\n",
    "        # Initialize the parent class\n",
    "        super().__init__(title, author, isbn)\n",
    "        self.__file_size_bytes = file_size_bytes\n",
    "        self.__AVG_PAGE_READING_TIME_MIN = 10\n",
    "        self.__pages_count = pages_count\n",
    "\n",
    "    @property\n",
    "    def pages_count(self):\n",
    "        return self.__pages_count\n",
    "\n",
    "    def display_info(self):\n",
    "        print(f\"Title: {self.title}, Author: {self.author}, ISBN: {self.isbn}, Available: {self.is_available}\")\n",
    "        print(f\"File size (bytes): {self.__file_size_bytes}\")\n",
    "        print(f\"Pages count: {self.__pages_count}\")\n",
    "\n",
    "    def time_to_beat(self) -> int:\n",
    "        return self.__pages_count * self.__AVG_PAGE_READING_TIME_MIN\n",
    "\n",
    "    @property\n",
    "    def file_size_bytes(self):\n",
    "        return self.__file_size_bytes\n",
    "\n",
    "    def send_to_printer(self):\n",
    "        print(\"Printing...\")\n"
   ]
  },
  {
   "cell_type": "code",
   "execution_count": 40,
   "id": "a6a7a834",
   "metadata": {},
   "outputs": [
    {
     "name": "stdout",
     "output_type": "stream",
     "text": [
      "Title: Sample EBook, Author: Sample Author, ISBN: 0987654321, Available: True\n",
      "File size (bytes): 2048000\n",
      "Pages count: 300\n",
      "3000\n"
     ]
    }
   ],
   "source": [
    "ebook = EBook(\"Sample EBook\", \"Sample Author\", \"0987654321\", 2048000, 300)\n",
    "ebook.display_info()\n",
    "print(ebook.time_to_beat())"
   ]
  },
  {
   "cell_type": "markdown",
   "id": "c64e98a5",
   "metadata": {},
   "source": [
    "Теперь перейдем непосредственно к принципу. Создадим бумажную книгу. Напечатать ее нельзя, но нам пришлось реализовать этот метод"
   ]
  },
  {
   "cell_type": "code",
   "execution_count": 41,
   "id": "91c9af4a",
   "metadata": {},
   "outputs": [],
   "source": [
    "class PaperBook(AbstractBook):\n",
    "    def __init__(self, title: str, author: str, isbn: str, pages_count: int):\n",
    "        # Initialize the parent class\n",
    "        super().__init__(title, author, isbn)\n",
    "        self.__AVG_PAGE_READING_TIME_MIN = 10\n",
    "        self.__pages_count = pages_count\n",
    "\n",
    "    @property\n",
    "    def pages_count(self):\n",
    "        return self.__pages_count\n",
    "\n",
    "    def display_info(self):\n",
    "        print(f\"Title: {self.title}, Author: {self.author}, ISBN: {self.isbn}, Available: {self.is_available}\")\n",
    "        print(f\"Pages count: {self.__pages_count}\")\n",
    "\n",
    "    def time_to_beat(self) -> int:\n",
    "        return self.__pages_count * self.__AVG_PAGE_READING_TIME_MIN\n",
    "\n",
    "    def send_to_printer(self):\n",
    "        raise NotImplementedError\n"
   ]
  },
  {
   "cell_type": "markdown",
   "id": "b65a9388",
   "metadata": {},
   "source": [
    "И заведем класс библиотеки"
   ]
  },
  {
   "cell_type": "code",
   "execution_count": 42,
   "id": "a1bb0f8f",
   "metadata": {},
   "outputs": [],
   "source": [
    "class Library:\n",
    "    _books : list[AbstractBook]\n",
    "    def __init__(self):\n",
    "        self._books = []\n",
    "\n",
    "    def add_book(self, book: AbstractBook):\n",
    "        self._books.append(book)\n",
    "\n",
    "    def find_by_title(self, title: str):\n",
    "        return [book for book in self._books if book.title == title]\n"
   ]
  },
  {
   "cell_type": "markdown",
   "id": "73a7f7f6",
   "metadata": {},
   "source": [
    "Таким образом мы видим, что библиотеке не нужно печатать книги, а интерфейс абстрактной книги зачем-то это поддерживает. "
   ]
  },
  {
   "cell_type": "markdown",
   "id": "bfa4cd08",
   "metadata": {},
   "source": [
    "# Принцип инверсии зависимостей\n",
    "\n",
    "> 1. Модуль высокого уровня не должен зависеть от модулей низкого уровня. И то, и другое должно зависеть от абстракций. \n",
    "> 2. Абстракции не должны зависеть от деталей реализации. Детали реализации должны зависеть от абстракций."
   ]
  },
  {
   "cell_type": "markdown",
   "id": "2ddb5a18",
   "metadata": {},
   "source": [
    "Мы хотим сделать так, чтобы библиотека могла записывать информацию о книжках в файл. Для этого сделаем некоторое хранилище, которое будет использоваться в библиотеке"
   ]
  },
  {
   "cell_type": "code",
   "execution_count": 43,
   "id": "10074782",
   "metadata": {},
   "outputs": [],
   "source": [
    "class FileBookStorage:\n",
    "    def save(self, books, filename):\n",
    "        with open(filename, 'w', encoding='utf-8') as f:\n",
    "            for book in books:\n",
    "                f.write(f\"{book.title},{book.author},{book.isbn}\\n\")\n",
    "\n",
    "class LibraryBad:\n",
    "    def __init__(self):\n",
    "        self._books = []\n",
    "        # Зависимость от конкретного класса хранения\n",
    "        self._storage = FileBookStorage()\n",
    "\n",
    "    def add_book(self, book):\n",
    "        self._books.append(book)\n",
    "\n",
    "    def save_books(self, filename):\n",
    "        # Нарушение DIP: библиотека зависит от конкретной реализации хранения\n",
    "        self._storage.save(self._books, filename)"
   ]
  },
  {
   "cell_type": "markdown",
   "id": "dd95e45f",
   "metadata": {},
   "source": [
    "Что если мы захотим поменять хранилище: например, писать не в файл, а в БД? Нам придется нарушить OCP и изменить класс библиотеки. Чтобы решить эту проблему выделим абстрактный класс (интерфейс) и сделаем так, чтобы библиотека зависела от него, а не от конкретной реализации. Хранилище же будет реализовывать этот интерфейс. \n",
    "\n",
    "В терминологиях принципа хранилище - модуль низкого уровня, а библиотека - высокого."
   ]
  },
  {
   "cell_type": "code",
   "execution_count": 44,
   "id": "eeb1dc7f",
   "metadata": {},
   "outputs": [],
   "source": [
    "class BookStorageInterface(ABC):\n",
    "    def save(self, books, filename):\n",
    "        pass\n",
    "\n",
    "class FileBookStorage(BookStorageInterface):\n",
    "    def save(self, books, filename):\n",
    "        with open(filename, 'w', encoding='utf-8') as f:\n",
    "            for book in books:\n",
    "                f.write(f\"{book.title},{book.author},{book.isbn}\\n\")\n",
    "\n",
    "class Library:\n",
    "    def __init__(self, storage: BookStorageInterface):\n",
    "        self._books = []\n",
    "        self._storage = storage\n",
    "\n",
    "    def add_book(self, book):\n",
    "        self._books.append(book)\n",
    "\n",
    "    def save_books(self, filename):\n",
    "        self._storage.save(self._books, filename)"
   ]
  },
  {
   "cell_type": "markdown",
   "id": "3a892eb1",
   "metadata": {},
   "source": [
    "# Полезное чтение\n",
    "\n",
    "1. https://metanit.com/python/tutorial/2.28.php\n",
    "2. https://habr.com/ru/articles/444338/\n",
    "3. https://habr.com/ru/companies/otus/articles/651753/\n",
    "4. https://proglib.io/p/oop-v-python-principy-solid-dlya-nachinayushchih-2023-07-12\n",
    "5. https://metanit.com/python/tutorial/7.1.php\n",
    "6. https://habr.com/ru/companies/yandex_praktikum/articles/749180/ "
   ]
  }
 ],
 "metadata": {
  "kernelspec": {
   "display_name": ".venv",
   "language": "python",
   "name": "python3"
  },
  "language_info": {
   "codemirror_mode": {
    "name": "ipython",
    "version": 3
   },
   "file_extension": ".py",
   "mimetype": "text/x-python",
   "name": "python",
   "nbconvert_exporter": "python",
   "pygments_lexer": "ipython3",
   "version": "3.13.5"
  }
 },
 "nbformat": 4,
 "nbformat_minor": 5
}
