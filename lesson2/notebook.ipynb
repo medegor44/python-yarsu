{
 "cells": [
  {
   "cell_type": "markdown",
   "id": "1046162b",
   "metadata": {},
   "source": [
    "# ООП\n",
    "Все программы состоят из объектов. Объект это некоторая сущность с определенным набором данных и набором действий - методов. Например, машина:\n",
    "\n",
    "Данные:\n",
    "- Объем бака\n",
    "- Мощность двигателя\n",
    "\n",
    "Действия:\n",
    "- Запустить двигатель\n",
    "- Ехать со скоростью V км/ч\n",
    "- Остановиться"
   ]
  },
  {
   "cell_type": "code",
   "execution_count": null,
   "id": "48dce734",
   "metadata": {},
   "outputs": [],
   "source": [
    "class Car:\n",
    "    amount_of_fuel: float\n",
    "    engine_power: float\n",
    "\n",
    "    def __init__(self, amount_of_fuel: float, engine_power: float):\n",
    "        self.amount_of_fuel = amount_of_fuel\n",
    "        self.engine_power = engine_power\n",
    "\n",
    "    def start_engine(self):\n",
    "        print(\"Engine started\")"
   ]
  }
 ],
 "metadata": {
  "kernelspec": {
   "display_name": ".venv",
   "language": "python",
   "name": "python3"
  },
  "language_info": {
   "name": "python",
   "version": "3.13.5"
  }
 },
 "nbformat": 4,
 "nbformat_minor": 5
}
