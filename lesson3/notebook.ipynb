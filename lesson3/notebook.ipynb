{
 "cells": [
  {
   "cell_type": "markdown",
   "id": "2c2857a5",
   "metadata": {},
   "source": [
    "# Асинхронное программирование"
   ]
  },
  {
   "cell_type": "markdown",
   "id": "11571c1e",
   "metadata": {},
   "source": [
    "## Что это такое?\n",
    "\n",
    "Допустим вы готовите завтрак. Вам нужно сварить кофе, пожарить яичницу, сделать бутерброд. В синхронной манере вы будете\n",
    "делать примерно следующее:\n",
    "1. Сделать яичницу\n",
    "2. Сделать бутерброд\n",
    "3. Сделать кофе\n",
    "Вы не начнете готовить кофе пока не будет готов бутерброд. Кажется нелепым, зачем ждать когда пожарится яичница, если она\n",
    "и без вашего надзора хорошо это делает. \n",
    "\n",
    "В случае асинхронного программирования вы ставите жариться яичницу, варите кофе и пока они готовятся делаете бутерброд. \n",
    "Времени тратите меньше, а делаете ту же работу."
   ]
  },
  {
   "cell_type": "markdown",
   "id": "232a6115",
   "metadata": {},
   "source": [
    "## Приготовим завтрак синхронно"
   ]
  },
  {
   "cell_type": "code",
   "execution_count": 5,
   "id": "1a883d63",
   "metadata": {},
   "outputs": [
    {
     "name": "stdout",
     "output_type": "stream",
     "text": [
      "Fried eggs are ready!\n",
      "Sandwich is ready!\n",
      "Coffee is ready!\n"
     ]
    }
   ],
   "source": [
    "import time\n",
    "\n",
    "def make_breakfast_slow():\n",
    "    make_fried_eggs_slow()\n",
    "    make_sandwich_slow()\n",
    "    make_coffee_slow()\n",
    "\n",
    "def make_fried_eggs_slow():\n",
    "    time.sleep(2)\n",
    "    print(\"Fried eggs are ready!\")\n",
    "\n",
    "def make_sandwich_slow():\n",
    "    time.sleep(1)\n",
    "    print(\"Sandwich is ready!\")\n",
    "\n",
    "def make_coffee_slow():\n",
    "    time.sleep(1)\n",
    "    print(\"Coffee is ready!\")\n",
    "\n",
    "make_breakfast_slow()"
   ]
  },
  {
   "cell_type": "markdown",
   "id": "812f7ab7",
   "metadata": {},
   "source": [
    "## Приготовим завтрак асинхронно"
   ]
  },
  {
   "cell_type": "code",
   "execution_count": 4,
   "id": "aa0bbd54",
   "metadata": {},
   "outputs": [
    {
     "name": "stdout",
     "output_type": "stream",
     "text": [
      "Sandwich is ready!\n",
      "Coffee is ready!\n",
      "Fried eggs are ready!\n"
     ]
    }
   ],
   "source": [
    "import asyncio\n",
    "\n",
    "async def make_fried_eggs_fast():\n",
    "    await asyncio.sleep(2)\n",
    "    print(\"Fried eggs are ready!\")\n",
    "\n",
    "async def make_sandwich_fast():\n",
    "    await asyncio.sleep(1)\n",
    "    print(\"Sandwich is ready!\")\n",
    "\n",
    "async def make_coffee_fast():\n",
    "    await asyncio.sleep(1)\n",
    "    print(\"Coffee is ready!\")\n",
    "\n",
    "async def make_breakfast_fast():\n",
    "    eggs_task = asyncio.create_task(make_fried_eggs_fast())\n",
    "    coffee_task = asyncio.create_task(make_coffee_fast())\n",
    "    await make_sandwich_fast()\n",
    "    await asyncio.gather(eggs_task, coffee_task)\n",
    "\n",
    "await make_breakfast_fast()\n"
   ]
  },
  {
   "cell_type": "markdown",
   "id": "dc96e2e1",
   "metadata": {},
   "source": [
    "### Что произошло? \n",
    "1. Мы определили асинхронные функции с помощью `async`. Внутри функций мы используем неблокирующий `asyncio.sleep` \n",
    "и ждем его с помощью `await`. Это говорит интерпретатору: \"можешь идти работать дальше, а потом как отработаю я сообщу тебе\".\n",
    "2. Мы запустили в работу сразу две функции по готовке кофе и яичницы, обернув их в `task`. Встретив `await` интерпретатор сразу вышел из них и пошел работать дальше\n",
    "3. Встретил `await make_sandwich()`. Тут ему делать нечего, так как больше нечего ему обрабатывать и он спокойно ждет пока будет готов бутерброд\n",
    "4. Затем мы ждем завершения работы обоих функций по готовке яиц и кофе с помощью `await asyncio.gather(eggs_task, coffee_task)`"
   ]
  },
  {
   "cell_type": "markdown",
   "id": "a191a204",
   "metadata": {},
   "source": [
    "## Как все устроено"
   ]
  },
  {
   "cell_type": "markdown",
   "id": "808260a8",
   "metadata": {},
   "source": [
    "Посмотрим на типы функций и возвращаемых значений"
   ]
  },
  {
   "cell_type": "code",
   "execution_count": 7,
   "id": "f9639356",
   "metadata": {},
   "outputs": [
    {
     "name": "stdout",
     "output_type": "stream",
     "text": [
      "<class 'function'>\n",
      "Fried eggs are ready!\n",
      "Sandwich is ready!\n",
      "Coffee is ready!\n",
      "<class 'NoneType'>\n"
     ]
    }
   ],
   "source": [
    "print(type(make_breakfast_slow))\n",
    "print(type(make_breakfast_slow()))"
   ]
  },
  {
   "cell_type": "code",
   "execution_count": 8,
   "id": "a5938247",
   "metadata": {},
   "outputs": [
    {
     "name": "stdout",
     "output_type": "stream",
     "text": [
      "<class 'function'>\n",
      "<class 'coroutine'>\n"
     ]
    },
    {
     "name": "stderr",
     "output_type": "stream",
     "text": [
      "/var/folders/fm/k78pgbtj1v118606k1hh97240000gn/T/ipykernel_50792/1525278321.py:2: RuntimeWarning: coroutine 'make_breakfast_fast' was never awaited\n",
      "  print(type(make_breakfast_fast()))\n",
      "RuntimeWarning: Enable tracemalloc to get the object allocation traceback\n"
     ]
    }
   ],
   "source": [
    "print(type(make_breakfast_fast))\n",
    "print(type(make_breakfast_fast()))"
   ]
  },
  {
   "cell_type": "markdown",
   "id": "87f865cb",
   "metadata": {},
   "source": [
    "Не обращаем внимания на предупреждение. Тип функции это функция, а вот возвращает функция не `None`, а некую корутину. "
   ]
  },
  {
   "cell_type": "markdown",
   "id": "a6be60b2",
   "metadata": {},
   "source": [
    "# Попробуем в деле"
   ]
  },
  {
   "cell_type": "markdown",
   "id": "c504849c",
   "metadata": {},
   "source": [
    "Начнем с синхронных запросов"
   ]
  },
  {
   "cell_type": "markdown",
   "id": "51e3f9ac",
   "metadata": {},
   "source": [
    "Просто установим пакет для отправки HTTP запросов"
   ]
  },
  {
   "cell_type": "code",
   "execution_count": 11,
   "id": "f8049443",
   "metadata": {},
   "outputs": [
    {
     "name": "stdout",
     "output_type": "stream",
     "text": [
      "Requirement already satisfied: requests in /Users/medegor44/Projects/python-yarsu/.venv/lib/python3.13/site-packages (2.32.5)\n",
      "Requirement already satisfied: charset_normalizer<4,>=2 in /Users/medegor44/Projects/python-yarsu/.venv/lib/python3.13/site-packages (from requests) (3.4.3)\n",
      "Requirement already satisfied: idna<4,>=2.5 in /Users/medegor44/Projects/python-yarsu/.venv/lib/python3.13/site-packages (from requests) (3.10)\n",
      "Requirement already satisfied: urllib3<3,>=1.21.1 in /Users/medegor44/Projects/python-yarsu/.venv/lib/python3.13/site-packages (from requests) (2.5.0)\n",
      "Requirement already satisfied: certifi>=2017.4.17 in /Users/medegor44/Projects/python-yarsu/.venv/lib/python3.13/site-packages (from requests) (2025.8.3)\n",
      "\n",
      "\u001b[1m[\u001b[0m\u001b[34;49mnotice\u001b[0m\u001b[1;39;49m]\u001b[0m\u001b[39;49m A new release of pip is available: \u001b[0m\u001b[31;49m25.1.1\u001b[0m\u001b[39;49m -> \u001b[0m\u001b[32;49m25.2\u001b[0m\n",
      "\u001b[1m[\u001b[0m\u001b[34;49mnotice\u001b[0m\u001b[1;39;49m]\u001b[0m\u001b[39;49m To update, run: \u001b[0m\u001b[32;49mpip install --upgrade pip\u001b[0m\n",
      "Note: you may need to restart the kernel to use updated packages.\n",
      "Requirement already satisfied: python-dotenv in /Users/medegor44/Projects/python-yarsu/.venv/lib/python3.13/site-packages (1.1.1)\n",
      "\n",
      "\u001b[1m[\u001b[0m\u001b[34;49mnotice\u001b[0m\u001b[1;39;49m]\u001b[0m\u001b[39;49m A new release of pip is available: \u001b[0m\u001b[31;49m25.1.1\u001b[0m\u001b[39;49m -> \u001b[0m\u001b[32;49m25.2\u001b[0m\n",
      "\u001b[1m[\u001b[0m\u001b[34;49mnotice\u001b[0m\u001b[1;39;49m]\u001b[0m\u001b[39;49m To update, run: \u001b[0m\u001b[32;49mpip install --upgrade pip\u001b[0m\n",
      "Note: you may need to restart the kernel to use updated packages.\n",
      "Collecting aiohttp\n",
      "  Downloading aiohttp-3.12.15-cp313-cp313-macosx_11_0_arm64.whl.metadata (7.7 kB)\n",
      "Collecting aiohappyeyeballs>=2.5.0 (from aiohttp)\n",
      "  Downloading aiohappyeyeballs-2.6.1-py3-none-any.whl.metadata (5.9 kB)\n",
      "Collecting aiosignal>=1.4.0 (from aiohttp)\n",
      "  Downloading aiosignal-1.4.0-py3-none-any.whl.metadata (3.7 kB)\n",
      "Collecting attrs>=17.3.0 (from aiohttp)\n",
      "  Downloading attrs-25.3.0-py3-none-any.whl.metadata (10 kB)\n",
      "Collecting frozenlist>=1.1.1 (from aiohttp)\n",
      "  Downloading frozenlist-1.7.0-cp313-cp313-macosx_11_0_arm64.whl.metadata (18 kB)\n",
      "Collecting multidict<7.0,>=4.5 (from aiohttp)\n",
      "  Downloading multidict-6.6.4-cp313-cp313-macosx_11_0_arm64.whl.metadata (5.3 kB)\n",
      "Collecting propcache>=0.2.0 (from aiohttp)\n",
      "  Downloading propcache-0.3.2-cp313-cp313-macosx_11_0_arm64.whl.metadata (12 kB)\n",
      "Collecting yarl<2.0,>=1.17.0 (from aiohttp)\n",
      "  Downloading yarl-1.20.1-cp313-cp313-macosx_11_0_arm64.whl.metadata (73 kB)\n",
      "Requirement already satisfied: idna>=2.0 in /Users/medegor44/Projects/python-yarsu/.venv/lib/python3.13/site-packages (from yarl<2.0,>=1.17.0->aiohttp) (3.10)\n",
      "Downloading aiohttp-3.12.15-cp313-cp313-macosx_11_0_arm64.whl (466 kB)\n",
      "Downloading multidict-6.6.4-cp313-cp313-macosx_11_0_arm64.whl (43 kB)\n",
      "Downloading yarl-1.20.1-cp313-cp313-macosx_11_0_arm64.whl (88 kB)\n",
      "Downloading aiohappyeyeballs-2.6.1-py3-none-any.whl (15 kB)\n",
      "Downloading aiosignal-1.4.0-py3-none-any.whl (7.5 kB)\n",
      "Downloading attrs-25.3.0-py3-none-any.whl (63 kB)\n",
      "Downloading frozenlist-1.7.0-cp313-cp313-macosx_11_0_arm64.whl (45 kB)\n",
      "Downloading propcache-0.3.2-cp313-cp313-macosx_11_0_arm64.whl (41 kB)\n",
      "Installing collected packages: propcache, multidict, frozenlist, attrs, aiohappyeyeballs, yarl, aiosignal, aiohttp\n",
      "\u001b[2K   \u001b[90m━━━━━━━━━━━━━━━━━━━━━━━━━━━━━━━━━━━━━━━━\u001b[0m \u001b[32m8/8\u001b[0m [aiohttp]m7/8\u001b[0m [aiohttp]\n",
      "\u001b[1A\u001b[2KSuccessfully installed aiohappyeyeballs-2.6.1 aiohttp-3.12.15 aiosignal-1.4.0 attrs-25.3.0 frozenlist-1.7.0 multidict-6.6.4 propcache-0.3.2 yarl-1.20.1\n",
      "\n",
      "\u001b[1m[\u001b[0m\u001b[34;49mnotice\u001b[0m\u001b[1;39;49m]\u001b[0m\u001b[39;49m A new release of pip is available: \u001b[0m\u001b[31;49m25.1.1\u001b[0m\u001b[39;49m -> \u001b[0m\u001b[32;49m25.2\u001b[0m\n",
      "\u001b[1m[\u001b[0m\u001b[34;49mnotice\u001b[0m\u001b[1;39;49m]\u001b[0m\u001b[39;49m To update, run: \u001b[0m\u001b[32;49mpip install --upgrade pip\u001b[0m\n",
      "Note: you may need to restart the kernel to use updated packages.\n"
     ]
    }
   ],
   "source": [
    "%pip install requests\n",
    "%pip install python-dotenv\n",
    "%pip install aiohttp"
   ]
  },
  {
   "cell_type": "code",
   "execution_count": 9,
   "id": "bca17e28",
   "metadata": {},
   "outputs": [
    {
     "name": "stdout",
     "output_type": "stream",
     "text": [
      "Moscow: Clouds\n",
      "St. Petersburg: Clouds\n",
      "Rostov-on-Don: Clouds\n",
      "Kaliningrad: Clouds\n",
      "Vladivostok: Clouds\n",
      "Minsk: Clouds\n",
      "Beijing: Clouds\n",
      "Delhi: Haze\n",
      "Istanbul: Clouds\n",
      "Tokyo: Mist\n",
      "London: Clouds\n",
      "New York: Clear\n"
     ]
    }
   ],
   "source": [
    "import requests\n",
    "import os\n",
    "from dotenv import load_dotenv \n",
    "\n",
    "load_dotenv()\n",
    "API_KEY = os.getenv(\"API_KEY\")\n",
    "\n",
    "def get_weather(city):\n",
    "    url = f'http://api.openweathermap.org/data/2.5/weather'\n",
    "    params = {'q': city, 'APPID': API_KEY}\n",
    "\n",
    "    weather_json = requests.get(url=url, params=params).json()\n",
    "    print(f'{city}: {weather_json[\"weather\"][0][\"main\"]}')\n",
    "\n",
    "def main(cities_):\n",
    "    for city in cities_:\n",
    "        get_weather(city)\n",
    "\n",
    "\n",
    "cities = ['Moscow', 'St. Petersburg', 'Rostov-on-Don', 'Kaliningrad', 'Vladivostok',\n",
    "          'Minsk', 'Beijing', 'Delhi', 'Istanbul', 'Tokyo', 'London', 'New York']\n",
    "\n",
    "main(cities)"
   ]
  },
  {
   "cell_type": "markdown",
   "id": "30dc83db",
   "metadata": {},
   "source": [
    "Теперь сделаем то же самое, но асинхронно"
   ]
  },
  {
   "cell_type": "code",
   "execution_count": 10,
   "id": "0499a058",
   "metadata": {},
   "outputs": [
    {
     "name": "stdout",
     "output_type": "stream",
     "text": [
      "Moscow: Clouds\n",
      "St. Petersburg: Clouds\n",
      "Rostov-on-Don: Clouds\n",
      "Kaliningrad: Clouds\n",
      "Vladivostok: Clouds\n",
      "Minsk: Clouds\n",
      "Beijing: Clouds\n",
      "Delhi: Haze\n",
      "Istanbul: Clouds\n",
      "Tokyo: Clouds\n",
      "London: Clouds\n",
      "New York: Clear\n"
     ]
    }
   ],
   "source": [
    "import asyncio\n",
    "from aiohttp import ClientSession\n",
    "\n",
    "\n",
    "async def get_weather(city):\n",
    "    async with ClientSession() as session:\n",
    "        url = f'http://api.openweathermap.org/data/2.5/weather'\n",
    "        params = {'q': city, 'APPID': API_KEY}\n",
    "\n",
    "        async with session.get(url=url, params=params) as response:\n",
    "            weather_json = await response.json()\n",
    "            return f'{city}: {weather_json[\"weather\"][0][\"main\"]}'\n",
    "\n",
    "\n",
    "async def main(cities_):\n",
    "    tasks = []\n",
    "    for city in cities_:\n",
    "        tasks.append(asyncio.create_task(get_weather(city)))\n",
    "\n",
    "    results = await asyncio.gather(*tasks)\n",
    "\n",
    "    for result in results:\n",
    "        print(result)\n",
    "\n",
    "\n",
    "cities = ['Moscow', 'St. Petersburg', 'Rostov-on-Don', 'Kaliningrad', 'Vladivostok',\n",
    "          'Minsk', 'Beijing', 'Delhi', 'Istanbul', 'Tokyo', 'London', 'New York']\n",
    "\n",
    "await main(cities)"
   ]
  },
  {
   "cell_type": "markdown",
   "id": "b4e4bb3f",
   "metadata": {},
   "source": [
    "## Источники\n",
    "1. https://habr.com/ru/articles/667630/"
   ]
  }
 ],
 "metadata": {
  "kernelspec": {
   "display_name": ".venv",
   "language": "python",
   "name": "python3"
  },
  "language_info": {
   "codemirror_mode": {
    "name": "ipython",
    "version": 3
   },
   "file_extension": ".py",
   "mimetype": "text/x-python",
   "name": "python",
   "nbconvert_exporter": "python",
   "pygments_lexer": "ipython3",
   "version": "3.13.5"
  }
 },
 "nbformat": 4,
 "nbformat_minor": 5
}
