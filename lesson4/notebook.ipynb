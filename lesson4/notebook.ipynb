{
 "cells": [
  {
   "cell_type": "markdown",
   "id": "831ecde6",
   "metadata": {},
   "source": [
    "# Юнит тестирование"
   ]
  },
  {
   "cell_type": "markdown",
   "id": "c985a560",
   "metadata": {},
   "source": [
    "Допустим, вы написали какую-то библиотеку и хотите быть уверенными в том, что\n",
    "1. Функции, классы определенные в ней работают корректно\n",
    "2. При рефакторинге вы ничего не создадите багов\n",
    "3. Добавление новой функциональности ничего не поломает\n",
    "\n",
    "В таком случае вам нужны юнит тесты"
   ]
  },
  {
   "cell_type": "markdown",
   "id": "2436f6b7",
   "metadata": {},
   "source": [
    "## Простейший юнит тест"
   ]
  },
  {
   "cell_type": "code",
   "execution_count": 1,
   "id": "4e2c2fe4",
   "metadata": {},
   "outputs": [
    {
     "name": "stderr",
     "output_type": "stream",
     "text": [
      "usage: ipykernel_launcher.py [-h] [-v] [-q] [--locals] [--durations N] [-f]\n",
      "                             [-c] [-b] [-k TESTNAMEPATTERNS]\n",
      "                             [tests ...]\n",
      "ipykernel_launcher.py: error: argument -f/--failfast: ignored explicit argument '/Users/medegor44/Library/Jupyter/runtime/kernel-v3ddd14fa0b96180aec68cd4c5853d3d5844a548a6.json'\n"
     ]
    },
    {
     "ename": "SystemExit",
     "evalue": "2",
     "output_type": "error",
     "traceback": [
      "An exception has occurred, use %tb to see the full traceback.\n",
      "\u001b[31mSystemExit\u001b[39m\u001b[31m:\u001b[39m 2\n"
     ]
    },
    {
     "name": "stderr",
     "output_type": "stream",
     "text": [
      "/Users/medegor44/Projects/python-yarsu/.venv/lib/python3.13/site-packages/IPython/core/interactiveshell.py:3707: UserWarning: To exit: use 'exit', 'quit', or Ctrl-D.\n",
      "  warn(\"To exit: use 'exit', 'quit', or Ctrl-D.\", stacklevel=1)\n"
     ]
    }
   ],
   "source": [
    "import unittest\n",
    "import utils.math_operations as math_ops\n",
    "\n",
    "class TestMathOperations(unittest.TestCase):\n",
    "    def test_add(self):\n",
    "        self.assertEqual(math_ops.add(2, 3), 5)\n",
    "        self.assertEqual(math_ops.add(-1, 1), 0)\n",
    "\n",
    "    def test_subtract(self):\n",
    "        self.assertEqual(math_ops.subtract(5, 3), 2)\n",
    "        self.assertEqual(math_ops.subtract(0, 0), 0)\n",
    "\n",
    "unittest.main()\n"
   ]
  }
 ],
 "metadata": {
  "kernelspec": {
   "display_name": ".venv",
   "language": "python",
   "name": "python3"
  },
  "language_info": {
   "codemirror_mode": {
    "name": "ipython",
    "version": 3
   },
   "file_extension": ".py",
   "mimetype": "text/x-python",
   "name": "python",
   "nbconvert_exporter": "python",
   "pygments_lexer": "ipython3",
   "version": "3.13.5"
  }
 },
 "nbformat": 4,
 "nbformat_minor": 5
}
