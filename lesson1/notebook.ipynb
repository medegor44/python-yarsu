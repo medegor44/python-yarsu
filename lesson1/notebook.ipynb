{
 "cells": [
  {
   "cell_type": "markdown",
   "id": "6416ef22",
   "metadata": {},
   "source": [
    "# Hello world"
   ]
  },
  {
   "cell_type": "code",
   "execution_count": 1,
   "id": "faee7768",
   "metadata": {},
   "outputs": [
    {
     "name": "stdout",
     "output_type": "stream",
     "text": [
      "Hello world\n"
     ]
    }
   ],
   "source": [
    "print('Hello world')"
   ]
  },
  {
   "cell_type": "markdown",
   "id": "69c651d2",
   "metadata": {},
   "source": [
    "# Что почитать\n",
    "1. Официальная документация https://docs.python.org/3/tutorial/index.html\n",
    "2. "
   ]
  },
  {
   "cell_type": "markdown",
   "id": "3d2b76f3",
   "metadata": {},
   "source": [
    "# Типизация\n",
    "\n",
    "Python - язык с динамической типизацией. Типы переменных устанавливаются в момент присвоения переменной значения. Кроме того переменная может менять свой тип"
   ]
  },
  {
   "cell_type": "code",
   "execution_count": 2,
   "id": "800c22ba",
   "metadata": {},
   "outputs": [
    {
     "name": "stdout",
     "output_type": "stream",
     "text": [
      "Значение: 42, Тип: <class 'int'>\n",
      "Значение: Привет, мир!, Тип: <class 'str'>\n",
      "Значение: [1, 2, 3], Тип: <class 'list'>\n"
     ]
    }
   ],
   "source": [
    "# Пример динамической типизации в Python\n",
    "value = 42  # Сначала переменная имеет тип int\n",
    "print(f\"Значение: {value}, Тип: {type(value)}\")\n",
    "\n",
    "value = \"Привет, мир!\"  # Теперь переменная имеет тип str\n",
    "print(f\"Значение: {value}, Тип: {type(value)}\")\n",
    "\n",
    "value = [1, 2, 3]  # Теперь переменная имеет тип list\n",
    "print(f\"Значение: {value}, Тип: {type(value)}\")"
   ]
  },
  {
   "cell_type": "markdown",
   "id": "25b10af0",
   "metadata": {},
   "source": [
    "# Управление потоком выполнения"
   ]
  },
  {
   "cell_type": "markdown",
   "id": "2d48f2ab",
   "metadata": {},
   "source": [
    "Оператор `if`"
   ]
  },
  {
   "cell_type": "code",
   "execution_count": 3,
   "id": "c77acd6f",
   "metadata": {},
   "outputs": [
    {
     "name": "stdout",
     "output_type": "stream",
     "text": [
      "x положительное\n"
     ]
    }
   ],
   "source": [
    "x = 10\n",
    "\n",
    "if x > 0:\n",
    "    print(\"x положительное\")\n",
    "elif x < 0:\n",
    "    print(\"x отрицательное\")\n",
    "else:\n",
    "    print(\"x равно нулю\")"
   ]
  },
  {
   "cell_type": "markdown",
   "id": "6e1ed506",
   "metadata": {},
   "source": [
    "Оператор `match`"
   ]
  },
  {
   "cell_type": "code",
   "execution_count": 4,
   "id": "39566c94",
   "metadata": {},
   "outputs": [
    {
     "name": "stdout",
     "output_type": "stream",
     "text": [
      "Not Found\n"
     ]
    }
   ],
   "source": [
    "status = 404\n",
    "\n",
    "match (status):\n",
    "    case 200:\n",
    "        print(\"OK\")\n",
    "    case 404:\n",
    "        print(\"Not Found\")\n",
    "    case 500 | 503:\n",
    "        print(\"Internal Server Error\")\n",
    "    case _:\n",
    "        print(\"Unknown Status\")"
   ]
  },
  {
   "cell_type": "markdown",
   "id": "47596374",
   "metadata": {},
   "source": [
    "Цикл `for`"
   ]
  },
  {
   "cell_type": "code",
   "execution_count": 5,
   "id": "aa91d952",
   "metadata": {},
   "outputs": [
    {
     "name": "stdout",
     "output_type": "stream",
     "text": [
      "Сумма:  10\n"
     ]
    }
   ],
   "source": [
    "sum = 0\n",
    "\n",
    "for i in range(5):\n",
    "    sum += i\n",
    "\n",
    "print(\"Сумма: \", sum)"
   ]
  },
  {
   "cell_type": "markdown",
   "id": "c8312a55",
   "metadata": {},
   "source": [
    "Цикл `while`"
   ]
  },
  {
   "cell_type": "code",
   "execution_count": 6,
   "id": "378e8eed",
   "metadata": {},
   "outputs": [
    {
     "name": "stdout",
     "output_type": "stream",
     "text": [
      "12368\n",
      "10.000043008275778\n"
     ]
    }
   ],
   "source": [
    "harmonic_sum = 0\n",
    "n = 10\n",
    "i = 1\n",
    "while harmonic_sum < n:\n",
    "    harmonic_sum += 1 / i\n",
    "    i += 1\n",
    "\n",
    "print(i)\n",
    "print(harmonic_sum)"
   ]
  },
  {
   "cell_type": "markdown",
   "id": "775c7679",
   "metadata": {},
   "source": [
    "# Функции"
   ]
  },
  {
   "cell_type": "markdown",
   "id": "bf41c804",
   "metadata": {},
   "source": [
    "Определение функции"
   ]
  },
  {
   "cell_type": "code",
   "execution_count": 7,
   "id": "582c6e49",
   "metadata": {},
   "outputs": [
    {
     "data": {
      "text/plain": [
       "55"
      ]
     },
     "execution_count": 7,
     "metadata": {},
     "output_type": "execute_result"
    }
   ],
   "source": [
    "def fib(n):\n",
    "    if n == 0:\n",
    "        return 0\n",
    "    elif n == 1:\n",
    "        return 1\n",
    "    else:\n",
    "        return fib(n - 1) + fib(n - 2)\n",
    "\n",
    "fib(10)"
   ]
  },
  {
   "cell_type": "markdown",
   "id": "b7161915",
   "metadata": {},
   "source": [
    "Лямбда функции"
   ]
  },
  {
   "cell_type": "code",
   "execution_count": 8,
   "id": "25cf4e82",
   "metadata": {},
   "outputs": [
    {
     "name": "stdout",
     "output_type": "stream",
     "text": [
      "25\n"
     ]
    }
   ],
   "source": [
    "f = lambda x: x ** 2\n",
    "\n",
    "print(f(5))"
   ]
  },
  {
   "cell_type": "markdown",
   "id": "f6a2660e",
   "metadata": {},
   "source": [
    "Функцию можно присвоить переменной"
   ]
  },
  {
   "cell_type": "code",
   "execution_count": 9,
   "id": "cd42d771",
   "metadata": {},
   "outputs": [
    {
     "data": {
      "text/plain": [
       "5"
      ]
     },
     "execution_count": 9,
     "metadata": {},
     "output_type": "execute_result"
    }
   ],
   "source": [
    "def g(x):\n",
    "    return x + 2\n",
    "\n",
    "t = g\n",
    "\n",
    "t(3)"
   ]
  },
  {
   "cell_type": "markdown",
   "id": "cc55b267",
   "metadata": {},
   "source": [
    "# Структуры данных"
   ]
  },
  {
   "cell_type": "markdown",
   "id": "d7f1dea6",
   "metadata": {},
   "source": [
    "## Списки"
   ]
  },
  {
   "cell_type": "code",
   "execution_count": 10,
   "id": "41ba7851",
   "metadata": {},
   "outputs": [
    {
     "name": "stdout",
     "output_type": "stream",
     "text": [
      "[1, 2, 3, 4, 5, 6, 7, 8, 9, 10, 11, 12, 13, 14, 15, 16, 17, 18, 19, 20, 21, 22, 23, 24, 25, 26, 27, 28, 29, 30, 31, 32, 33, 34, 35, 36, 37, 38, 39, 40, 41, 42, 43, 44, 45, 46, 47, 48, 49, 50, 51, 52, 53, 54, 55, 56, 57, 58, 59, 60, 61, 62, 63, 64, 65, 66, 67, 68, 69, 70, 71, 72, 73, 74, 75, 76, 77, 78, 79, 80, 81, 82, 83, 84, 85, 86, 87, 88, 89, 90, 91, 92, 93, 94, 95, 96, 97, 98, 99, 100]\n"
     ]
    }
   ],
   "source": [
    "x = []\n",
    "for i in range(1, 101):\n",
    "    x.append(i)\n",
    "\n",
    "print(x)"
   ]
  },
  {
   "cell_type": "code",
   "execution_count": 11,
   "id": "668337a3",
   "metadata": {},
   "outputs": [
    {
     "name": "stdout",
     "output_type": "stream",
     "text": [
      "[3, 4, 5, 6, 7, 8, 9, 10]\n"
     ]
    }
   ],
   "source": [
    "print(x[2:10]) "
   ]
  },
  {
   "cell_type": "code",
   "execution_count": 12,
   "id": "35f92622",
   "metadata": {},
   "outputs": [
    {
     "name": "stdout",
     "output_type": "stream",
     "text": [
      "[3, 5, 7, 9]\n"
     ]
    }
   ],
   "source": [
    "print(x[2:10:2])"
   ]
  },
  {
   "cell_type": "code",
   "execution_count": 13,
   "id": "2213f024",
   "metadata": {},
   "outputs": [
    {
     "name": "stdout",
     "output_type": "stream",
     "text": [
      "100\n"
     ]
    }
   ],
   "source": [
    "print(x[-1])"
   ]
  },
  {
   "cell_type": "markdown",
   "id": "2ced0117",
   "metadata": {},
   "source": [
    "Списки можно генерировать"
   ]
  },
  {
   "cell_type": "code",
   "execution_count": 14,
   "id": "e80b5755",
   "metadata": {},
   "outputs": [
    {
     "name": "stdout",
     "output_type": "stream",
     "text": [
      "[0, 1, 4, 9, 16, 25, 36, 49, 64, 81]\n"
     ]
    }
   ],
   "source": [
    "x = [i ** 2 for i in range(10)]\n",
    "print(x)"
   ]
  },
  {
   "cell_type": "markdown",
   "id": "4c029b6b",
   "metadata": {},
   "source": [
    "Функции `map` и `filter`"
   ]
  },
  {
   "cell_type": "markdown",
   "id": "0cd092f9",
   "metadata": {},
   "source": [
    "С помощью `map` можно преобразовывать элементы списка. Важно: `map` это чистая функция, то есть она не изменяет свои аргументы"
   ]
  },
  {
   "cell_type": "code",
   "execution_count": 15,
   "id": "720a8f48",
   "metadata": {},
   "outputs": [
    {
     "name": "stdout",
     "output_type": "stream",
     "text": [
      "Исходный список: [0, 1, 2, 3, 4, 5, 6, 7, 8, 9]\n",
      "Квадраты: [0, 1, 4, 9, 16, 25, 36, 49, 64, 81]\n",
      "Исходный список после применения map: [0, 1, 2, 3, 4, 5, 6, 7, 8, 9]\n"
     ]
    }
   ],
   "source": [
    "x = [i for i in range(10)]\n",
    "print(\"Исходный список:\", x)\n",
    "\n",
    "squares = map(lambda y: y ** 2, x)\n",
    "print(\"Квадраты:\", list(squares))\n",
    "print(\"Исходный список после применения map:\", x)"
   ]
  },
  {
   "cell_type": "markdown",
   "id": "1cc3a17d",
   "metadata": {},
   "source": [
    "С помощью `filter` можно отобрать только нужные элементы списка. Как и `map` эта функция является чистой."
   ]
  },
  {
   "cell_type": "code",
   "execution_count": 16,
   "id": "979c1da8",
   "metadata": {},
   "outputs": [
    {
     "name": "stdout",
     "output_type": "stream",
     "text": [
      "Исходный список: [-10, -9, -8, -7, -6, -5, -4, -3, -2, -1, 0, 1, 2, 3, 4, 5, 6, 7, 8, 9]\n",
      "Неотрицательные числа: [0, 1, 2, 3, 4, 5, 6, 7, 8, 9]\n"
     ]
    }
   ],
   "source": [
    "x = [i for i in range(-10, 10)]\n",
    "\n",
    "non_negatives = list(filter(lambda z: z >= 0, x))\n",
    "\n",
    "print(\"Исходный список:\", x)\n",
    "print(\"Неотрицательные числа:\", non_negatives)"
   ]
  },
  {
   "cell_type": "markdown",
   "id": "1a900a47",
   "metadata": {},
   "source": [
    "## Словари"
   ]
  },
  {
   "cell_type": "code",
   "execution_count": 2,
   "id": "094ea2b0",
   "metadata": {},
   "outputs": [
    {
     "name": "stdout",
     "output_type": "stream",
     "text": [
      "Number of occurrences of 'apple' is 2\n",
      "Number of occurrences of 'banana' is 1\n",
      "Number of occurrences of 'cherry' is 1\n"
     ]
    }
   ],
   "source": [
    "x = dict()\n",
    "\n",
    "words = ['apple', 'banana', 'cherry', 'apple']\n",
    "\n",
    "for word in words:\n",
    "    if word not in x:\n",
    "        x[word] = 0\n",
    "    x[word] += 1\n",
    "\n",
    "for key, value in x.items():\n",
    "    print(f\"Number of occurrences of '{key}' is {value}\")\n"
   ]
  },
  {
   "cell_type": "markdown",
   "id": "ccd78c89",
   "metadata": {},
   "source": [
    "## Строки"
   ]
  },
  {
   "cell_type": "code",
   "execution_count": null,
   "id": "2bb981d4",
   "metadata": {},
   "outputs": [
    {
     "name": "stdout",
     "output_type": "stream",
     "text": [
      "<class 'str'>\n",
      "<class 'str'>\n",
      "11\n",
      "some strin\n",
      "Some string\n",
      "5\n",
      "SOME STRING\n"
     ]
    }
   ],
   "source": [
    "s = 'string'\n",
    "print(type(s))\n",
    "\n",
    "s = \"another string\"\n",
    "print(type(s))\n",
    "\n",
    "s = 'some string'\n",
    "print(len(s))\n",
    "print(s[0:10])\n",
    "print(s.capitalize())\n",
    "print(s.find('str'))\n",
    "print(s.upper())\n",
    "\n",
    "# и много другое вы можете посмотреть с помощью автодополнения в вашем редакторе"
   ]
  },
  {
   "cell_type": "markdown",
   "id": "b3b68385",
   "metadata": {},
   "source": [
    "# Лайвкодинг"
   ]
  },
  {
   "cell_type": "markdown",
   "id": "565a5eca",
   "metadata": {},
   "source": [
    "Заданы два массива длины n и m, отсортированные в порядке возрастания. Необходимо объединить их в один массив тоже отсортированный в порядке возрастания"
   ]
  },
  {
   "cell_type": "code",
   "execution_count": 6,
   "id": "04553976",
   "metadata": {},
   "outputs": [
    {
     "name": "stdout",
     "output_type": "stream",
     "text": [
      "[1, 2, 2, 3, 5, 6]\n"
     ]
    }
   ],
   "source": [
    "class Solution:\n",
    "    def merge(self, nums1, m, nums2, n):\n",
    "        \"\"\"\n",
    "        Do not return anything, modify nums1 in-place instead.\n",
    "        \"\"\"\n",
    "        i, j, k = m - 1, n - 1, m + n - 1\n",
    "        while i >= 0 and j >= 0:\n",
    "            if nums1[i] > nums2[j]:\n",
    "                nums1[k] = nums1[i]\n",
    "                i -= 1\n",
    "            else:\n",
    "                nums1[k] = nums2[j]\n",
    "                j -= 1\n",
    "            k -= 1\n",
    "        nums1[:j + 1] = nums2[:j + 1]\n",
    "\n",
    "s = Solution()\n",
    "\n",
    "nums1 = [1,2,3,0,0,0]\n",
    "nums2 = [2,5,6]\n",
    "s.merge(nums1, 3, nums2, 3)\n",
    "\n",
    "print(nums1)"
   ]
  },
  {
   "cell_type": "markdown",
   "id": "2c5d8ee2",
   "metadata": {},
   "source": [
    "## Задачи на дом\n",
    "\n",
    "1. https://leetcode.com/problems/roman-to-integer/description/\n",
    "2. https://leetcode.com/problems/longest-common-prefix/description/\n",
    "3. https://leetcode.com/problems/best-time-to-buy-and-sell-stock/description/\n",
    "4. https://leetcode.com/problems/linked-list-cycle/description/"
   ]
  }
 ],
 "metadata": {
  "kernelspec": {
   "display_name": ".venv",
   "language": "python",
   "name": "python3"
  },
  "language_info": {
   "codemirror_mode": {
    "name": "ipython",
    "version": 3
   },
   "file_extension": ".py",
   "mimetype": "text/x-python",
   "name": "python",
   "nbconvert_exporter": "python",
   "pygments_lexer": "ipython3",
   "version": "3.13.5"
  }
 },
 "nbformat": 4,
 "nbformat_minor": 5
}
